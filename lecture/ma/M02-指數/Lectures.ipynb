{
 "cells": [
  {
   "cell_type": "markdown",
   "id": "24964640",
   "metadata": {},
   "source": [
    "# 指數 (Exponent)"
   ]
  },
  {
   "cell_type": "markdown",
   "id": "9527c0de",
   "metadata": {},
   "source": [
    "將任意數 $a$ 連乘 $p$ 次，稱 $a$ 為底數(base)，$p$ 為指數(exponent)，記作 $a^p$。"
   ]
  },
  {
   "cell_type": "markdown",
   "id": "9f55fd7a",
   "metadata": {},
   "source": [
    "## 特性"
   ]
  },
  {
   "cell_type": "markdown",
   "id": "6dd2a823",
   "metadata": {},
   "source": [
    "1. $a^m\\times a^n=a^{m+n}$\n",
    "\n",
    "\n",
    "2. $a^m\\div a^n=a^{m-n}$\n",
    "\n",
    "\n",
    "3. $(a^m)^n=a^{m\\times n}$\n",
    "\n",
    "\n",
    "4. $(a^m)^n=(a^n)^m$\n",
    "\n",
    "\n",
    "5. $a^0=1$\n",
    "\n",
    "   $\\Rightarrow a^0=a^{m-m}=a^m\\div a^m=1$\n",
    "\n",
    "\n",
    "6. $a^{-m}=1\\mathbin{/}a^m$\n",
    "\n",
    "   $\\Rightarrow a^{-m}=a^{0-m}=a^0\\div a^m=1\\mathbin{/}a^m$"
   ]
  },
  {
   "cell_type": "markdown",
   "id": "05e14aab",
   "metadata": {},
   "source": [
    "## 特殊"
   ]
  },
  {
   "cell_type": "markdown",
   "id": "fd45923a",
   "metadata": {},
   "source": [
    "- $2$ 的前 $10$ 次方依序為：$2$, $4$, $8$, $16$, $32$, $64$, $128$, $256$, $512$, $1024$\n",
    "\n",
    "\n",
    "- $2^{16}=65536$\n",
    "\n",
    "\n",
    "- $11^2=121$\n",
    "\n",
    "\n",
    "- $12^2=144$\n",
    "\n",
    "\n",
    "- $13^2=169$\n",
    "\n",
    "\n",
    "- $15^2=225$\n",
    "\n",
    "\n",
    "- $25^2=625$\n",
    "\n",
    "\n",
    "---\n",
    "\n",
    "\n",
    "- $2^{10}$ Bytes = $1$ KB\n",
    "\n",
    "\n",
    "- $2^{20}$ Bytes = $1$ MB\n",
    "\n",
    "\n",
    "- $2^{30}$ Bytes = $1$ GB"
   ]
  },
  {
   "cell_type": "markdown",
   "id": "54dc5638",
   "metadata": {},
   "source": [
    "## 延伸"
   ]
  },
  {
   "cell_type": "markdown",
   "id": "d755c74c",
   "metadata": {},
   "source": [
    "1. 對任意正實數 $a$、$b$，定義運算符號 $\\sqrt{\\cdot}$，即**根號**，表示為滿足 $a^2=b$，則可將 $a$ 記作 $\\sqrt{b}$。\n",
    "\n",
    "\n",
    "2. 對任意實數 $a$、$b$，及正整數 $n$，定義運算符號 $\\sqrt[n]{\\cdot}$，即$\\mathbf{n}$**次根號**，表示為滿足 $a^n=b$，則可將 $a$ 記作 $\\sqrt[n]{b}$。\n",
    "\n",
    "\n",
    "3. 對任意實數 $a$、$b$，及正整數 $n$，對指數作廣義的延伸，表示為滿足 $a^n=b$，則可將 $a$ 記作 $b^{1/n}$。"
   ]
  }
 ],
 "metadata": {
  "kernelspec": {
   "display_name": "Python 3 (ipykernel)",
   "language": "python",
   "name": "python3"
  },
  "language_info": {
   "codemirror_mode": {
    "name": "ipython",
    "version": 3
   },
   "file_extension": ".py",
   "mimetype": "text/x-python",
   "name": "python",
   "nbconvert_exporter": "python",
   "pygments_lexer": "ipython3",
   "version": "3.8.6"
  }
 },
 "nbformat": 4,
 "nbformat_minor": 5
}
